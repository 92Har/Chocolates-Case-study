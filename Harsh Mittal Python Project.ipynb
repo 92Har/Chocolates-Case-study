{
 "cells": [
  {
   "cell_type": "code",
   "execution_count": 1,
   "id": "da1cac6a",
   "metadata": {},
   "outputs": [],
   "source": [
    "import pandas as pd\n",
    "import matplotlib.pyplot as plt\n",
    "import seaborn as sns"
   ]
  },
  {
   "cell_type": "code",
   "execution_count": 2,
   "id": "22404400",
   "metadata": {},
   "outputs": [
    {
     "name": "stdout",
     "output_type": "stream",
     "text": [
      "Requirement already satisfied: pandoc in c:\\users\\harsh mittal\\anaconda3\\lib\\site-packages (2.3)\n",
      "Requirement already satisfied: ply in c:\\users\\harsh mittal\\anaconda3\\lib\\site-packages (from pandoc) (3.11)\n",
      "Requirement already satisfied: plumbum in c:\\users\\harsh mittal\\anaconda3\\lib\\site-packages (from pandoc) (1.8.1)\n",
      "Requirement already satisfied: pywin32 in c:\\users\\harsh mittal\\anaconda3\\lib\\site-packages (from plumbum->pandoc) (302)\n",
      "Requirement already satisfied: nbconvert[webpdf] in c:\\users\\harsh mittal\\anaconda3\\lib\\site-packages (6.4.4)\n",
      "Requirement already satisfied: defusedxml in c:\\users\\harsh mittal\\anaconda3\\lib\\site-packages (from nbconvert[webpdf]) (0.7.1)\n",
      "Requirement already satisfied: jupyterlab-pygments in c:\\users\\harsh mittal\\anaconda3\\lib\\site-packages (from nbconvert[webpdf]) (0.1.2)\n",
      "Requirement already satisfied: pygments>=2.4.1 in c:\\users\\harsh mittal\\anaconda3\\lib\\site-packages (from nbconvert[webpdf]) (2.11.2)\n",
      "Requirement already satisfied: bleach in c:\\users\\harsh mittal\\anaconda3\\lib\\site-packages (from nbconvert[webpdf]) (4.1.0)\n",
      "Requirement already satisfied: nbclient<0.6.0,>=0.5.0 in c:\\users\\harsh mittal\\anaconda3\\lib\\site-packages (from nbconvert[webpdf]) (0.5.13)\n",
      "Requirement already satisfied: jupyter-core in c:\\users\\harsh mittal\\anaconda3\\lib\\site-packages (from nbconvert[webpdf]) (4.9.2)\n",
      "Requirement already satisfied: testpath in c:\\users\\harsh mittal\\anaconda3\\lib\\site-packages (from nbconvert[webpdf]) (0.5.0)\n",
      "Requirement already satisfied: entrypoints>=0.2.2 in c:\\users\\harsh mittal\\anaconda3\\lib\\site-packages (from nbconvert[webpdf]) (0.4)\n",
      "Requirement already satisfied: nbformat>=4.4 in c:\\users\\harsh mittal\\anaconda3\\lib\\site-packages (from nbconvert[webpdf]) (5.3.0)\n",
      "Requirement already satisfied: mistune<2,>=0.8.1 in c:\\users\\harsh mittal\\anaconda3\\lib\\site-packages (from nbconvert[webpdf]) (0.8.4)\n",
      "Requirement already satisfied: pandocfilters>=1.4.1 in c:\\users\\harsh mittal\\anaconda3\\lib\\site-packages (from nbconvert[webpdf]) (1.5.0)\n",
      "Requirement already satisfied: jinja2>=2.4 in c:\\users\\harsh mittal\\anaconda3\\lib\\site-packages (from nbconvert[webpdf]) (3.0.3)\n",
      "Requirement already satisfied: traitlets>=5.0 in c:\\users\\harsh mittal\\anaconda3\\lib\\site-packages (from nbconvert[webpdf]) (5.1.1)\n",
      "Requirement already satisfied: beautifulsoup4 in c:\\users\\harsh mittal\\anaconda3\\lib\\site-packages (from nbconvert[webpdf]) (4.11.1)\n",
      "Requirement already satisfied: pyppeteer<1.1,>=1 in c:\\users\\harsh mittal\\anaconda3\\lib\\site-packages (from nbconvert[webpdf]) (1.0.2)\n",
      "Requirement already satisfied: MarkupSafe>=2.0 in c:\\users\\harsh mittal\\anaconda3\\lib\\site-packages (from jinja2>=2.4->nbconvert[webpdf]) (2.0.1)\n",
      "Requirement already satisfied: jupyter-client>=6.1.5 in c:\\users\\harsh mittal\\anaconda3\\lib\\site-packages (from nbclient<0.6.0,>=0.5.0->nbconvert[webpdf]) (6.1.12)\n",
      "Requirement already satisfied: nest-asyncio in c:\\users\\harsh mittal\\anaconda3\\lib\\site-packages (from nbclient<0.6.0,>=0.5.0->nbconvert[webpdf]) (1.5.5)\n",
      "Requirement already satisfied: python-dateutil>=2.1 in c:\\users\\harsh mittal\\anaconda3\\lib\\site-packages (from jupyter-client>=6.1.5->nbclient<0.6.0,>=0.5.0->nbconvert[webpdf]) (2.8.2)\n",
      "Requirement already satisfied: pyzmq>=13 in c:\\users\\harsh mittal\\anaconda3\\lib\\site-packages (from jupyter-client>=6.1.5->nbclient<0.6.0,>=0.5.0->nbconvert[webpdf]) (22.3.0)\n",
      "Requirement already satisfied: tornado>=4.1 in c:\\users\\harsh mittal\\anaconda3\\lib\\site-packages (from jupyter-client>=6.1.5->nbclient<0.6.0,>=0.5.0->nbconvert[webpdf]) (6.1)\n",
      "Requirement already satisfied: pywin32>=1.0 in c:\\users\\harsh mittal\\anaconda3\\lib\\site-packages (from jupyter-core->nbconvert[webpdf]) (302)\n",
      "Requirement already satisfied: jsonschema>=2.6 in c:\\users\\harsh mittal\\anaconda3\\lib\\site-packages (from nbformat>=4.4->nbconvert[webpdf]) (4.4.0)\n",
      "Requirement already satisfied: fastjsonschema in c:\\users\\harsh mittal\\anaconda3\\lib\\site-packages (from nbformat>=4.4->nbconvert[webpdf]) (2.15.1)\n",
      "Requirement already satisfied: attrs>=17.4.0 in c:\\users\\harsh mittal\\anaconda3\\lib\\site-packages (from jsonschema>=2.6->nbformat>=4.4->nbconvert[webpdf]) (21.4.0)\n",
      "Requirement already satisfied: pyrsistent!=0.17.0,!=0.17.1,!=0.17.2,>=0.14.0 in c:\\users\\harsh mittal\\anaconda3\\lib\\site-packages (from jsonschema>=2.6->nbformat>=4.4->nbconvert[webpdf]) (0.18.0)\n",
      "Requirement already satisfied: appdirs<2.0.0,>=1.4.3 in c:\\users\\harsh mittal\\anaconda3\\lib\\site-packages (from pyppeteer<1.1,>=1->nbconvert[webpdf]) (1.4.4)\n",
      "Requirement already satisfied: websockets<11.0,>=10.0 in c:\\users\\harsh mittal\\anaconda3\\lib\\site-packages (from pyppeteer<1.1,>=1->nbconvert[webpdf]) (10.4)\n",
      "Requirement already satisfied: pyee<9.0.0,>=8.1.0 in c:\\users\\harsh mittal\\anaconda3\\lib\\site-packages (from pyppeteer<1.1,>=1->nbconvert[webpdf]) (8.2.2)\n",
      "Requirement already satisfied: tqdm<5.0.0,>=4.42.1 in c:\\users\\harsh mittal\\anaconda3\\lib\\site-packages (from pyppeteer<1.1,>=1->nbconvert[webpdf]) (4.64.0)\n",
      "Requirement already satisfied: importlib-metadata>=1.4 in c:\\users\\harsh mittal\\anaconda3\\lib\\site-packages (from pyppeteer<1.1,>=1->nbconvert[webpdf]) (4.11.3)\n",
      "Requirement already satisfied: urllib3<2.0.0,>=1.25.8 in c:\\users\\harsh mittal\\anaconda3\\lib\\site-packages (from pyppeteer<1.1,>=1->nbconvert[webpdf]) (1.26.9)\n",
      "Requirement already satisfied: certifi>=2021 in c:\\users\\harsh mittal\\anaconda3\\lib\\site-packages (from pyppeteer<1.1,>=1->nbconvert[webpdf]) (2021.10.8)\n",
      "Requirement already satisfied: zipp>=0.5 in c:\\users\\harsh mittal\\anaconda3\\lib\\site-packages (from importlib-metadata>=1.4->pyppeteer<1.1,>=1->nbconvert[webpdf]) (3.7.0)\n",
      "Requirement already satisfied: six>=1.5 in c:\\users\\harsh mittal\\anaconda3\\lib\\site-packages (from python-dateutil>=2.1->jupyter-client>=6.1.5->nbclient<0.6.0,>=0.5.0->nbconvert[webpdf]) (1.16.0)\n",
      "Requirement already satisfied: colorama in c:\\users\\harsh mittal\\anaconda3\\lib\\site-packages (from tqdm<5.0.0,>=4.42.1->pyppeteer<1.1,>=1->nbconvert[webpdf]) (0.4.4)\n",
      "Requirement already satisfied: soupsieve>1.2 in c:\\users\\harsh mittal\\anaconda3\\lib\\site-packages (from beautifulsoup4->nbconvert[webpdf]) (2.3.1)\n",
      "Requirement already satisfied: packaging in c:\\users\\harsh mittal\\anaconda3\\lib\\site-packages (from bleach->nbconvert[webpdf]) (21.3)\n",
      "Requirement already satisfied: webencodings in c:\\users\\harsh mittal\\anaconda3\\lib\\site-packages (from bleach->nbconvert[webpdf]) (0.5.1)\n",
      "Requirement already satisfied: pyparsing!=3.0.5,>=2.0.2 in c:\\users\\harsh mittal\\anaconda3\\lib\\site-packages (from packaging->bleach->nbconvert[webpdf]) (3.0.4)\n"
     ]
    }
   ],
   "source": [
    "!pip install pandoc\n",
    "!pip install nbconvert[webpdf]"
   ]
  },
  {
   "cell_type": "code",
   "execution_count": 3,
   "id": "6659c517",
   "metadata": {},
   "outputs": [
    {
     "name": "stderr",
     "output_type": "stream",
     "text": [
      "ERROR: Could not find a version that satisfies the requirement chromium-download (from versions: none)\n",
      "ERROR: No matching distribution found for chromium-download\n"
     ]
    }
   ],
   "source": [
    "! pip install chromium-download"
   ]
  },
  {
   "cell_type": "code",
   "execution_count": 4,
   "id": "3c14941e",
   "metadata": {},
   "outputs": [
    {
     "name": "stdout",
     "output_type": "stream",
     "text": [
      "Requirement already satisfied: jinja2==3.0.3 in c:\\users\\harsh mittal\\anaconda3\\lib\\site-packages (3.0.3)\n",
      "Requirement already satisfied: MarkupSafe>=2.0 in c:\\users\\harsh mittal\\anaconda3\\lib\\site-packages (from jinja2==3.0.3) (2.0.1)\n"
     ]
    }
   ],
   "source": [
    "!pip install jinja2==3.0.3"
   ]
  },
  {
   "cell_type": "code",
   "execution_count": 5,
   "id": "f887c1ef",
   "metadata": {
    "scrolled": true
   },
   "outputs": [],
   "source": [
    "data=pd.read_excel(\"data1.xlsx\")"
   ]
  },
  {
   "cell_type": "code",
   "execution_count": 6,
   "id": "4a19e877",
   "metadata": {},
   "outputs": [
    {
     "data": {
      "text/html": [
       "<div>\n",
       "<style scoped>\n",
       "    .dataframe tbody tr th:only-of-type {\n",
       "        vertical-align: middle;\n",
       "    }\n",
       "\n",
       "    .dataframe tbody tr th {\n",
       "        vertical-align: top;\n",
       "    }\n",
       "\n",
       "    .dataframe thead th {\n",
       "        text-align: right;\n",
       "    }\n",
       "</style>\n",
       "<table border=\"1\" class=\"dataframe\">\n",
       "  <thead>\n",
       "    <tr style=\"text-align: right;\">\n",
       "      <th></th>\n",
       "      <th>ID</th>\n",
       "      <th>Day</th>\n",
       "      <th>Incidence</th>\n",
       "      <th>Brand</th>\n",
       "      <th>Quantity</th>\n",
       "      <th>Last_Inc_Brand</th>\n",
       "      <th>Last_Inc_Quantity</th>\n",
       "      <th>Price_1</th>\n",
       "      <th>Price_2</th>\n",
       "      <th>Price_3</th>\n",
       "      <th>...</th>\n",
       "      <th>Promotion_3</th>\n",
       "      <th>Promotion_4</th>\n",
       "      <th>Promotion_5</th>\n",
       "      <th>Sex</th>\n",
       "      <th>Marital status</th>\n",
       "      <th>Age</th>\n",
       "      <th>Education</th>\n",
       "      <th>Income</th>\n",
       "      <th>Occupation</th>\n",
       "      <th>Settlement size</th>\n",
       "    </tr>\n",
       "  </thead>\n",
       "  <tbody>\n",
       "    <tr>\n",
       "      <th>0</th>\n",
       "      <td>200000001</td>\n",
       "      <td>1</td>\n",
       "      <td>0</td>\n",
       "      <td>0</td>\n",
       "      <td>0</td>\n",
       "      <td>0</td>\n",
       "      <td>0</td>\n",
       "      <td>1.59</td>\n",
       "      <td>1.87</td>\n",
       "      <td>2.01</td>\n",
       "      <td>...</td>\n",
       "      <td>0</td>\n",
       "      <td>0</td>\n",
       "      <td>0</td>\n",
       "      <td>0</td>\n",
       "      <td>0</td>\n",
       "      <td>47</td>\n",
       "      <td>1</td>\n",
       "      <td>110866</td>\n",
       "      <td>1</td>\n",
       "      <td>0</td>\n",
       "    </tr>\n",
       "    <tr>\n",
       "      <th>1</th>\n",
       "      <td>200000001</td>\n",
       "      <td>11</td>\n",
       "      <td>0</td>\n",
       "      <td>0</td>\n",
       "      <td>0</td>\n",
       "      <td>0</td>\n",
       "      <td>0</td>\n",
       "      <td>1.51</td>\n",
       "      <td>1.89</td>\n",
       "      <td>1.99</td>\n",
       "      <td>...</td>\n",
       "      <td>0</td>\n",
       "      <td>0</td>\n",
       "      <td>0</td>\n",
       "      <td>0</td>\n",
       "      <td>0</td>\n",
       "      <td>47</td>\n",
       "      <td>1</td>\n",
       "      <td>110866</td>\n",
       "      <td>1</td>\n",
       "      <td>0</td>\n",
       "    </tr>\n",
       "    <tr>\n",
       "      <th>2</th>\n",
       "      <td>200000001</td>\n",
       "      <td>12</td>\n",
       "      <td>0</td>\n",
       "      <td>0</td>\n",
       "      <td>0</td>\n",
       "      <td>0</td>\n",
       "      <td>0</td>\n",
       "      <td>1.51</td>\n",
       "      <td>1.89</td>\n",
       "      <td>1.99</td>\n",
       "      <td>...</td>\n",
       "      <td>0</td>\n",
       "      <td>0</td>\n",
       "      <td>0</td>\n",
       "      <td>0</td>\n",
       "      <td>0</td>\n",
       "      <td>47</td>\n",
       "      <td>1</td>\n",
       "      <td>110866</td>\n",
       "      <td>1</td>\n",
       "      <td>0</td>\n",
       "    </tr>\n",
       "    <tr>\n",
       "      <th>3</th>\n",
       "      <td>200000001</td>\n",
       "      <td>16</td>\n",
       "      <td>0</td>\n",
       "      <td>0</td>\n",
       "      <td>0</td>\n",
       "      <td>0</td>\n",
       "      <td>0</td>\n",
       "      <td>1.52</td>\n",
       "      <td>1.89</td>\n",
       "      <td>1.98</td>\n",
       "      <td>...</td>\n",
       "      <td>0</td>\n",
       "      <td>0</td>\n",
       "      <td>0</td>\n",
       "      <td>0</td>\n",
       "      <td>0</td>\n",
       "      <td>47</td>\n",
       "      <td>1</td>\n",
       "      <td>110866</td>\n",
       "      <td>1</td>\n",
       "      <td>0</td>\n",
       "    </tr>\n",
       "    <tr>\n",
       "      <th>4</th>\n",
       "      <td>200000001</td>\n",
       "      <td>18</td>\n",
       "      <td>0</td>\n",
       "      <td>0</td>\n",
       "      <td>0</td>\n",
       "      <td>0</td>\n",
       "      <td>0</td>\n",
       "      <td>1.52</td>\n",
       "      <td>1.89</td>\n",
       "      <td>1.99</td>\n",
       "      <td>...</td>\n",
       "      <td>0</td>\n",
       "      <td>0</td>\n",
       "      <td>0</td>\n",
       "      <td>0</td>\n",
       "      <td>0</td>\n",
       "      <td>47</td>\n",
       "      <td>1</td>\n",
       "      <td>110866</td>\n",
       "      <td>1</td>\n",
       "      <td>0</td>\n",
       "    </tr>\n",
       "    <tr>\n",
       "      <th>...</th>\n",
       "      <td>...</td>\n",
       "      <td>...</td>\n",
       "      <td>...</td>\n",
       "      <td>...</td>\n",
       "      <td>...</td>\n",
       "      <td>...</td>\n",
       "      <td>...</td>\n",
       "      <td>...</td>\n",
       "      <td>...</td>\n",
       "      <td>...</td>\n",
       "      <td>...</td>\n",
       "      <td>...</td>\n",
       "      <td>...</td>\n",
       "      <td>...</td>\n",
       "      <td>...</td>\n",
       "      <td>...</td>\n",
       "      <td>...</td>\n",
       "      <td>...</td>\n",
       "      <td>...</td>\n",
       "      <td>...</td>\n",
       "      <td>...</td>\n",
       "    </tr>\n",
       "    <tr>\n",
       "      <th>58688</th>\n",
       "      <td>200000500</td>\n",
       "      <td>703</td>\n",
       "      <td>0</td>\n",
       "      <td>0</td>\n",
       "      <td>0</td>\n",
       "      <td>2</td>\n",
       "      <td>1</td>\n",
       "      <td>1.41</td>\n",
       "      <td>1.85</td>\n",
       "      <td>2.01</td>\n",
       "      <td>...</td>\n",
       "      <td>1</td>\n",
       "      <td>0</td>\n",
       "      <td>0</td>\n",
       "      <td>0</td>\n",
       "      <td>0</td>\n",
       "      <td>42</td>\n",
       "      <td>1</td>\n",
       "      <td>120946</td>\n",
       "      <td>1</td>\n",
       "      <td>0</td>\n",
       "    </tr>\n",
       "    <tr>\n",
       "      <th>58689</th>\n",
       "      <td>200000500</td>\n",
       "      <td>710</td>\n",
       "      <td>0</td>\n",
       "      <td>0</td>\n",
       "      <td>0</td>\n",
       "      <td>0</td>\n",
       "      <td>0</td>\n",
       "      <td>1.36</td>\n",
       "      <td>1.84</td>\n",
       "      <td>2.09</td>\n",
       "      <td>...</td>\n",
       "      <td>0</td>\n",
       "      <td>0</td>\n",
       "      <td>0</td>\n",
       "      <td>0</td>\n",
       "      <td>0</td>\n",
       "      <td>42</td>\n",
       "      <td>1</td>\n",
       "      <td>120946</td>\n",
       "      <td>1</td>\n",
       "      <td>0</td>\n",
       "    </tr>\n",
       "    <tr>\n",
       "      <th>58690</th>\n",
       "      <td>200000500</td>\n",
       "      <td>717</td>\n",
       "      <td>0</td>\n",
       "      <td>0</td>\n",
       "      <td>0</td>\n",
       "      <td>0</td>\n",
       "      <td>0</td>\n",
       "      <td>1.50</td>\n",
       "      <td>1.80</td>\n",
       "      <td>2.14</td>\n",
       "      <td>...</td>\n",
       "      <td>0</td>\n",
       "      <td>0</td>\n",
       "      <td>0</td>\n",
       "      <td>0</td>\n",
       "      <td>0</td>\n",
       "      <td>42</td>\n",
       "      <td>1</td>\n",
       "      <td>120946</td>\n",
       "      <td>1</td>\n",
       "      <td>0</td>\n",
       "    </tr>\n",
       "    <tr>\n",
       "      <th>58691</th>\n",
       "      <td>200000500</td>\n",
       "      <td>722</td>\n",
       "      <td>1</td>\n",
       "      <td>2</td>\n",
       "      <td>3</td>\n",
       "      <td>0</td>\n",
       "      <td>0</td>\n",
       "      <td>1.51</td>\n",
       "      <td>1.82</td>\n",
       "      <td>2.09</td>\n",
       "      <td>...</td>\n",
       "      <td>0</td>\n",
       "      <td>0</td>\n",
       "      <td>0</td>\n",
       "      <td>0</td>\n",
       "      <td>0</td>\n",
       "      <td>42</td>\n",
       "      <td>1</td>\n",
       "      <td>120946</td>\n",
       "      <td>1</td>\n",
       "      <td>0</td>\n",
       "    </tr>\n",
       "    <tr>\n",
       "      <th>58692</th>\n",
       "      <td>200000500</td>\n",
       "      <td>726</td>\n",
       "      <td>0</td>\n",
       "      <td>0</td>\n",
       "      <td>0</td>\n",
       "      <td>2</td>\n",
       "      <td>1</td>\n",
       "      <td>1.51</td>\n",
       "      <td>1.82</td>\n",
       "      <td>2.09</td>\n",
       "      <td>...</td>\n",
       "      <td>0</td>\n",
       "      <td>0</td>\n",
       "      <td>0</td>\n",
       "      <td>0</td>\n",
       "      <td>0</td>\n",
       "      <td>42</td>\n",
       "      <td>1</td>\n",
       "      <td>120946</td>\n",
       "      <td>1</td>\n",
       "      <td>0</td>\n",
       "    </tr>\n",
       "  </tbody>\n",
       "</table>\n",
       "<p>58693 rows × 24 columns</p>\n",
       "</div>"
      ],
      "text/plain": [
       "              ID  Day  Incidence  Brand  Quantity  Last_Inc_Brand  \\\n",
       "0      200000001    1          0      0         0               0   \n",
       "1      200000001   11          0      0         0               0   \n",
       "2      200000001   12          0      0         0               0   \n",
       "3      200000001   16          0      0         0               0   \n",
       "4      200000001   18          0      0         0               0   \n",
       "...          ...  ...        ...    ...       ...             ...   \n",
       "58688  200000500  703          0      0         0               2   \n",
       "58689  200000500  710          0      0         0               0   \n",
       "58690  200000500  717          0      0         0               0   \n",
       "58691  200000500  722          1      2         3               0   \n",
       "58692  200000500  726          0      0         0               2   \n",
       "\n",
       "       Last_Inc_Quantity  Price_1  Price_2  Price_3  ...  Promotion_3  \\\n",
       "0                      0     1.59     1.87     2.01  ...            0   \n",
       "1                      0     1.51     1.89     1.99  ...            0   \n",
       "2                      0     1.51     1.89     1.99  ...            0   \n",
       "3                      0     1.52     1.89     1.98  ...            0   \n",
       "4                      0     1.52     1.89     1.99  ...            0   \n",
       "...                  ...      ...      ...      ...  ...          ...   \n",
       "58688                  1     1.41     1.85     2.01  ...            1   \n",
       "58689                  0     1.36     1.84     2.09  ...            0   \n",
       "58690                  0     1.50     1.80     2.14  ...            0   \n",
       "58691                  0     1.51     1.82     2.09  ...            0   \n",
       "58692                  1     1.51     1.82     2.09  ...            0   \n",
       "\n",
       "       Promotion_4  Promotion_5  Sex  Marital status  Age  Education  Income  \\\n",
       "0                0            0    0               0   47          1  110866   \n",
       "1                0            0    0               0   47          1  110866   \n",
       "2                0            0    0               0   47          1  110866   \n",
       "3                0            0    0               0   47          1  110866   \n",
       "4                0            0    0               0   47          1  110866   \n",
       "...            ...          ...  ...             ...  ...        ...     ...   \n",
       "58688            0            0    0               0   42          1  120946   \n",
       "58689            0            0    0               0   42          1  120946   \n",
       "58690            0            0    0               0   42          1  120946   \n",
       "58691            0            0    0               0   42          1  120946   \n",
       "58692            0            0    0               0   42          1  120946   \n",
       "\n",
       "       Occupation  Settlement size  \n",
       "0               1                0  \n",
       "1               1                0  \n",
       "2               1                0  \n",
       "3               1                0  \n",
       "4               1                0  \n",
       "...           ...              ...  \n",
       "58688           1                0  \n",
       "58689           1                0  \n",
       "58690           1                0  \n",
       "58691           1                0  \n",
       "58692           1                0  \n",
       "\n",
       "[58693 rows x 24 columns]"
      ]
     },
     "execution_count": 6,
     "metadata": {},
     "output_type": "execute_result"
    }
   ],
   "source": [
    "data"
   ]
  },
  {
   "cell_type": "code",
   "execution_count": 7,
   "id": "a21b5d7e",
   "metadata": {},
   "outputs": [
    {
     "name": "stdout",
     "output_type": "stream",
     "text": [
      "<class 'pandas.core.frame.DataFrame'>\n",
      "RangeIndex: 58693 entries, 0 to 58692\n",
      "Data columns (total 24 columns):\n",
      " #   Column             Non-Null Count  Dtype  \n",
      "---  ------             --------------  -----  \n",
      " 0   ID                 58693 non-null  int64  \n",
      " 1   Day                58693 non-null  int64  \n",
      " 2   Incidence          58693 non-null  int64  \n",
      " 3   Brand              58693 non-null  int64  \n",
      " 4   Quantity           58693 non-null  int64  \n",
      " 5   Last_Inc_Brand     58693 non-null  int64  \n",
      " 6   Last_Inc_Quantity  58693 non-null  int64  \n",
      " 7   Price_1            58693 non-null  float64\n",
      " 8   Price_2            58693 non-null  float64\n",
      " 9   Price_3            58693 non-null  float64\n",
      " 10  Price_4            58693 non-null  float64\n",
      " 11  Price_5            58693 non-null  float64\n",
      " 12  Promotion_1        58693 non-null  int64  \n",
      " 13  Promotion_2        58693 non-null  int64  \n",
      " 14  Promotion_3        58693 non-null  int64  \n",
      " 15  Promotion_4        58693 non-null  int64  \n",
      " 16  Promotion_5        58693 non-null  int64  \n",
      " 17  Sex                58693 non-null  int64  \n",
      " 18  Marital status     58693 non-null  int64  \n",
      " 19  Age                58693 non-null  int64  \n",
      " 20  Education          58693 non-null  int64  \n",
      " 21  Income             58693 non-null  int64  \n",
      " 22  Occupation         58693 non-null  int64  \n",
      " 23  Settlement size    58693 non-null  int64  \n",
      "dtypes: float64(5), int64(19)\n",
      "memory usage: 10.7 MB\n"
     ]
    }
   ],
   "source": [
    "data.info()"
   ]
  },
  {
   "cell_type": "markdown",
   "id": "6a8b1ba9",
   "metadata": {},
   "source": [
    "## 2--> After checking data types all are in numerical and now i will convert into categorical acc to datatypes given in the data dictionary\n",
    "\n",
    "## In the data there is no null values "
   ]
  },
  {
   "cell_type": "code",
   "execution_count": 8,
   "id": "7c267517",
   "metadata": {},
   "outputs": [],
   "source": [
    "data['Incidence']=data['Incidence'].astype('object')\n",
    "data['Brand']=data['Brand'].astype('object')\n",
    "data['Last_Inc_Brand']=data['Last_Inc_Brand'].astype('object')\n",
    "data['Promotion_1']=data['Promotion_1'].astype('object')\n",
    "data['Promotion_2']=data['Promotion_2'].astype('object')\n",
    "data['Promotion_3']=data['Promotion_3'].astype('object')\n",
    "data['Promotion_4']=data['Promotion_4'].astype('object')\n",
    "data['Promotion_5']=data['Promotion_5'].astype('object')\n",
    "data['Sex']=data['Sex'].astype('object')\n",
    "data['Marital status']=data['Marital status'].astype('object')\n",
    "data['Education']=data['Education'].astype('object')\n",
    "data['Occupation']=data['Occupation'].astype('object')\n",
    "data['Settlement size']=data['Settlement size'].astype('object')"
   ]
  },
  {
   "cell_type": "code",
   "execution_count": 9,
   "id": "543650b1",
   "metadata": {},
   "outputs": [
    {
     "data": {
      "text/plain": [
       "ID                     int64\n",
       "Day                    int64\n",
       "Incidence             object\n",
       "Brand                 object\n",
       "Quantity               int64\n",
       "Last_Inc_Brand        object\n",
       "Last_Inc_Quantity      int64\n",
       "Price_1              float64\n",
       "Price_2              float64\n",
       "Price_3              float64\n",
       "Price_4              float64\n",
       "Price_5              float64\n",
       "Promotion_1           object\n",
       "Promotion_2           object\n",
       "Promotion_3           object\n",
       "Promotion_4           object\n",
       "Promotion_5           object\n",
       "Sex                   object\n",
       "Marital status        object\n",
       "Age                    int64\n",
       "Education             object\n",
       "Income                 int64\n",
       "Occupation            object\n",
       "Settlement size       object\n",
       "dtype: object"
      ]
     },
     "execution_count": 9,
     "metadata": {},
     "output_type": "execute_result"
    }
   ],
   "source": [
    "data.dtypes"
   ]
  },
  {
   "cell_type": "code",
   "execution_count": 10,
   "id": "9d6b1aad",
   "metadata": {
    "scrolled": true
   },
   "outputs": [
    {
     "data": {
      "text/html": [
       "<div>\n",
       "<style scoped>\n",
       "    .dataframe tbody tr th:only-of-type {\n",
       "        vertical-align: middle;\n",
       "    }\n",
       "\n",
       "    .dataframe tbody tr th {\n",
       "        vertical-align: top;\n",
       "    }\n",
       "\n",
       "    .dataframe thead th {\n",
       "        text-align: right;\n",
       "    }\n",
       "</style>\n",
       "<table border=\"1\" class=\"dataframe\">\n",
       "  <thead>\n",
       "    <tr style=\"text-align: right;\">\n",
       "      <th></th>\n",
       "      <th>ID</th>\n",
       "      <th>Day</th>\n",
       "      <th>Quantity</th>\n",
       "      <th>Last_Inc_Quantity</th>\n",
       "      <th>Price_1</th>\n",
       "      <th>Price_2</th>\n",
       "      <th>Price_3</th>\n",
       "      <th>Price_4</th>\n",
       "      <th>Price_5</th>\n",
       "      <th>Age</th>\n",
       "      <th>Income</th>\n",
       "    </tr>\n",
       "  </thead>\n",
       "  <tbody>\n",
       "    <tr>\n",
       "      <th>count</th>\n",
       "      <td>5.869300e+04</td>\n",
       "      <td>58693.000000</td>\n",
       "      <td>58693.000000</td>\n",
       "      <td>58693.000000</td>\n",
       "      <td>58693.000000</td>\n",
       "      <td>58693.000000</td>\n",
       "      <td>58693.000000</td>\n",
       "      <td>58693.000000</td>\n",
       "      <td>58693.000000</td>\n",
       "      <td>58693.000000</td>\n",
       "      <td>58693.000000</td>\n",
       "    </tr>\n",
       "    <tr>\n",
       "      <th>mean</th>\n",
       "      <td>2.000003e+08</td>\n",
       "      <td>349.431074</td>\n",
       "      <td>0.691973</td>\n",
       "      <td>0.248070</td>\n",
       "      <td>1.392074</td>\n",
       "      <td>1.780999</td>\n",
       "      <td>2.006789</td>\n",
       "      <td>2.159945</td>\n",
       "      <td>2.654798</td>\n",
       "      <td>38.793962</td>\n",
       "      <td>121841.644319</td>\n",
       "    </tr>\n",
       "    <tr>\n",
       "      <th>std</th>\n",
       "      <td>1.443167e+02</td>\n",
       "      <td>212.045058</td>\n",
       "      <td>1.498734</td>\n",
       "      <td>0.431897</td>\n",
       "      <td>0.091139</td>\n",
       "      <td>0.170868</td>\n",
       "      <td>0.046867</td>\n",
       "      <td>0.089825</td>\n",
       "      <td>0.098272</td>\n",
       "      <td>12.052447</td>\n",
       "      <td>40643.740678</td>\n",
       "    </tr>\n",
       "    <tr>\n",
       "      <th>min</th>\n",
       "      <td>2.000000e+08</td>\n",
       "      <td>1.000000</td>\n",
       "      <td>0.000000</td>\n",
       "      <td>0.000000</td>\n",
       "      <td>1.100000</td>\n",
       "      <td>1.260000</td>\n",
       "      <td>1.870000</td>\n",
       "      <td>1.760000</td>\n",
       "      <td>2.110000</td>\n",
       "      <td>18.000000</td>\n",
       "      <td>38247.000000</td>\n",
       "    </tr>\n",
       "    <tr>\n",
       "      <th>25%</th>\n",
       "      <td>2.000001e+08</td>\n",
       "      <td>161.000000</td>\n",
       "      <td>0.000000</td>\n",
       "      <td>0.000000</td>\n",
       "      <td>1.340000</td>\n",
       "      <td>1.580000</td>\n",
       "      <td>1.970000</td>\n",
       "      <td>2.120000</td>\n",
       "      <td>2.630000</td>\n",
       "      <td>30.000000</td>\n",
       "      <td>95541.000000</td>\n",
       "    </tr>\n",
       "    <tr>\n",
       "      <th>50%</th>\n",
       "      <td>2.000003e+08</td>\n",
       "      <td>343.000000</td>\n",
       "      <td>0.000000</td>\n",
       "      <td>0.000000</td>\n",
       "      <td>1.390000</td>\n",
       "      <td>1.880000</td>\n",
       "      <td>2.010000</td>\n",
       "      <td>2.170000</td>\n",
       "      <td>2.670000</td>\n",
       "      <td>36.000000</td>\n",
       "      <td>117971.000000</td>\n",
       "    </tr>\n",
       "    <tr>\n",
       "      <th>75%</th>\n",
       "      <td>2.000004e+08</td>\n",
       "      <td>530.000000</td>\n",
       "      <td>0.000000</td>\n",
       "      <td>0.000000</td>\n",
       "      <td>1.470000</td>\n",
       "      <td>1.890000</td>\n",
       "      <td>2.060000</td>\n",
       "      <td>2.240000</td>\n",
       "      <td>2.700000</td>\n",
       "      <td>46.000000</td>\n",
       "      <td>138525.000000</td>\n",
       "    </tr>\n",
       "    <tr>\n",
       "      <th>max</th>\n",
       "      <td>2.000005e+08</td>\n",
       "      <td>730.000000</td>\n",
       "      <td>15.000000</td>\n",
       "      <td>1.000000</td>\n",
       "      <td>1.590000</td>\n",
       "      <td>1.900000</td>\n",
       "      <td>2.140000</td>\n",
       "      <td>2.260000</td>\n",
       "      <td>2.800000</td>\n",
       "      <td>75.000000</td>\n",
       "      <td>309364.000000</td>\n",
       "    </tr>\n",
       "  </tbody>\n",
       "</table>\n",
       "</div>"
      ],
      "text/plain": [
       "                 ID           Day      Quantity  Last_Inc_Quantity  \\\n",
       "count  5.869300e+04  58693.000000  58693.000000       58693.000000   \n",
       "mean   2.000003e+08    349.431074      0.691973           0.248070   \n",
       "std    1.443167e+02    212.045058      1.498734           0.431897   \n",
       "min    2.000000e+08      1.000000      0.000000           0.000000   \n",
       "25%    2.000001e+08    161.000000      0.000000           0.000000   \n",
       "50%    2.000003e+08    343.000000      0.000000           0.000000   \n",
       "75%    2.000004e+08    530.000000      0.000000           0.000000   \n",
       "max    2.000005e+08    730.000000     15.000000           1.000000   \n",
       "\n",
       "            Price_1       Price_2       Price_3       Price_4       Price_5  \\\n",
       "count  58693.000000  58693.000000  58693.000000  58693.000000  58693.000000   \n",
       "mean       1.392074      1.780999      2.006789      2.159945      2.654798   \n",
       "std        0.091139      0.170868      0.046867      0.089825      0.098272   \n",
       "min        1.100000      1.260000      1.870000      1.760000      2.110000   \n",
       "25%        1.340000      1.580000      1.970000      2.120000      2.630000   \n",
       "50%        1.390000      1.880000      2.010000      2.170000      2.670000   \n",
       "75%        1.470000      1.890000      2.060000      2.240000      2.700000   \n",
       "max        1.590000      1.900000      2.140000      2.260000      2.800000   \n",
       "\n",
       "                Age         Income  \n",
       "count  58693.000000   58693.000000  \n",
       "mean      38.793962  121841.644319  \n",
       "std       12.052447   40643.740678  \n",
       "min       18.000000   38247.000000  \n",
       "25%       30.000000   95541.000000  \n",
       "50%       36.000000  117971.000000  \n",
       "75%       46.000000  138525.000000  \n",
       "max       75.000000  309364.000000  "
      ]
     },
     "execution_count": 10,
     "metadata": {},
     "output_type": "execute_result"
    }
   ],
   "source": [
    "data.describe()"
   ]
  },
  {
   "cell_type": "markdown",
   "id": "324fbc46",
   "metadata": {},
   "source": [
    "## 3--> Brand 5 has high avg price and brand 1 has lowest avg price\n",
    "## Brand 2 has highest deviation in all brands price"
   ]
  },
  {
   "cell_type": "code",
   "execution_count": 11,
   "id": "17af63f0",
   "metadata": {},
   "outputs": [
    {
     "data": {
      "text/html": [
       "<div>\n",
       "<style scoped>\n",
       "    .dataframe tbody tr th:only-of-type {\n",
       "        vertical-align: middle;\n",
       "    }\n",
       "\n",
       "    .dataframe tbody tr th {\n",
       "        vertical-align: top;\n",
       "    }\n",
       "\n",
       "    .dataframe thead th {\n",
       "        text-align: right;\n",
       "    }\n",
       "</style>\n",
       "<table border=\"1\" class=\"dataframe\">\n",
       "  <thead>\n",
       "    <tr style=\"text-align: right;\">\n",
       "      <th></th>\n",
       "      <th>Incidence</th>\n",
       "      <th>Brand</th>\n",
       "      <th>Last_Inc_Brand</th>\n",
       "      <th>Promotion_1</th>\n",
       "      <th>Promotion_2</th>\n",
       "      <th>Promotion_3</th>\n",
       "      <th>Promotion_4</th>\n",
       "      <th>Promotion_5</th>\n",
       "      <th>Sex</th>\n",
       "      <th>Marital status</th>\n",
       "      <th>Education</th>\n",
       "      <th>Occupation</th>\n",
       "      <th>Settlement size</th>\n",
       "    </tr>\n",
       "  </thead>\n",
       "  <tbody>\n",
       "    <tr>\n",
       "      <th>count</th>\n",
       "      <td>58693</td>\n",
       "      <td>58693</td>\n",
       "      <td>58693</td>\n",
       "      <td>58693</td>\n",
       "      <td>58693</td>\n",
       "      <td>58693</td>\n",
       "      <td>58693</td>\n",
       "      <td>58693</td>\n",
       "      <td>58693</td>\n",
       "      <td>58693</td>\n",
       "      <td>58693</td>\n",
       "      <td>58693</td>\n",
       "      <td>58693</td>\n",
       "    </tr>\n",
       "    <tr>\n",
       "      <th>unique</th>\n",
       "      <td>2</td>\n",
       "      <td>6</td>\n",
       "      <td>6</td>\n",
       "      <td>2</td>\n",
       "      <td>2</td>\n",
       "      <td>2</td>\n",
       "      <td>2</td>\n",
       "      <td>2</td>\n",
       "      <td>2</td>\n",
       "      <td>2</td>\n",
       "      <td>4</td>\n",
       "      <td>3</td>\n",
       "      <td>3</td>\n",
       "    </tr>\n",
       "    <tr>\n",
       "      <th>top</th>\n",
       "      <td>0</td>\n",
       "      <td>0</td>\n",
       "      <td>0</td>\n",
       "      <td>0</td>\n",
       "      <td>0</td>\n",
       "      <td>0</td>\n",
       "      <td>0</td>\n",
       "      <td>0</td>\n",
       "      <td>0</td>\n",
       "      <td>0</td>\n",
       "      <td>1</td>\n",
       "      <td>1</td>\n",
       "      <td>0</td>\n",
       "    </tr>\n",
       "    <tr>\n",
       "      <th>freq</th>\n",
       "      <td>44055</td>\n",
       "      <td>44055</td>\n",
       "      <td>44133</td>\n",
       "      <td>38512</td>\n",
       "      <td>40169</td>\n",
       "      <td>56181</td>\n",
       "      <td>51776</td>\n",
       "      <td>56588</td>\n",
       "      <td>36044</td>\n",
       "      <td>35620</td>\n",
       "      <td>37161</td>\n",
       "      <td>29882</td>\n",
       "      <td>32081</td>\n",
       "    </tr>\n",
       "  </tbody>\n",
       "</table>\n",
       "</div>"
      ],
      "text/plain": [
       "        Incidence  Brand  Last_Inc_Brand  Promotion_1  Promotion_2  \\\n",
       "count       58693  58693           58693        58693        58693   \n",
       "unique          2      6               6            2            2   \n",
       "top             0      0               0            0            0   \n",
       "freq        44055  44055           44133        38512        40169   \n",
       "\n",
       "        Promotion_3  Promotion_4  Promotion_5    Sex  Marital status  \\\n",
       "count         58693        58693        58693  58693           58693   \n",
       "unique            2            2            2      2               2   \n",
       "top               0            0            0      0               0   \n",
       "freq          56181        51776        56588  36044           35620   \n",
       "\n",
       "        Education  Occupation  Settlement size  \n",
       "count       58693       58693            58693  \n",
       "unique          4           3                3  \n",
       "top             1           1                0  \n",
       "freq        37161       29882            32081  "
      ]
     },
     "execution_count": 11,
     "metadata": {},
     "output_type": "execute_result"
    }
   ],
   "source": [
    "data.describe(include='object')"
   ]
  },
  {
   "cell_type": "markdown",
   "id": "63da21cf",
   "metadata": {},
   "source": [
    "## 4--> Incidence factor is highest in high school category\n",
    "## Skilled employee has high incidences and we can say skilled employee byuing more chocloates  wrt others"
   ]
  },
  {
   "cell_type": "code",
   "execution_count": 12,
   "id": "ce98581d",
   "metadata": {},
   "outputs": [],
   "source": [
    "## Univariate analysis\n",
    "\n",
    "num = data.select_dtypes(include ='number')\n"
   ]
  },
  {
   "cell_type": "code",
   "execution_count": 13,
   "id": "ba87b3b5",
   "metadata": {
    "scrolled": true
   },
   "outputs": [
    {
     "data": {
      "image/png": "[encoded data removed]",
      "text/plain": [
       "<Figure size 1080x720 with 12 Axes>"
      ]
     },
     "metadata": {
      "needs_background": "light"
     },
     "output_type": "display_data"
    }
   ],
   "source": [
    "plt.rcParams[\"figure.figsize\"] = [15,10]\n",
    "num.plot(kind = 'density', subplots = True, layout = (2,6), sharex = False)\n",
    "\n",
    "# show plot\n",
    "plt.show()"
   ]
  },
  {
   "cell_type": "code",
   "execution_count": null,
   "id": "16825841",
   "metadata": {},
   "outputs": [],
   "source": []
  },
  {
   "cell_type": "markdown",
   "id": "404e6843",
   "metadata": {},
   "source": [
    "## I am assuming incidence as a target variable"
   ]
  },
  {
   "cell_type": "code",
   "execution_count": 14,
   "id": "0a7b57ae",
   "metadata": {},
   "outputs": [
    {
     "name": "stderr",
     "output_type": "stream",
     "text": [
      "C:\\Users\\Harsh Mittal\\anaconda3\\lib\\site-packages\\seaborn\\_decorators.py:36: FutureWarning: Pass the following variable as a keyword arg: x. From version 0.12, the only valid positional argument will be `data`, and passing other arguments without an explicit keyword will result in an error or misinterpretation.\n",
      "  warnings.warn(\n"
     ]
    },
    {
     "data": {
      "image/png": "[encoded data removed]",
      "text/plain": [
       "<Figure size 1080x720 with 1 Axes>"
      ]
     },
     "metadata": {
      "needs_background": "light"
     },
     "output_type": "display_data"
    }
   ],
   "source": [
    "sns.countplot(data['Incidence'])\n",
    "plt.show()"
   ]
  },
  {
   "cell_type": "code",
   "execution_count": 15,
   "id": "05fd526e",
   "metadata": {},
   "outputs": [],
   "source": [
    "## Here we can see that no of purchased incidences are less and also we can say that our data is imbalanced for predictive analysis\n",
    "##Our data also shows that incidence is very high for not purchased category so we need to take measures for to increase sales for candy bars"
   ]
  },
  {
   "cell_type": "code",
   "execution_count": 16,
   "id": "c0e49c1b",
   "metadata": {},
   "outputs": [
    {
     "data": {
      "text/plain": [
       "Brand  Incidence\n",
       "0      0            44055\n",
       "1      1             1350\n",
       "2      1             4542\n",
       "3      1              841\n",
       "4      1             2927\n",
       "5      1             4978\n",
       "Name: Incidence, dtype: int64"
      ]
     },
     "execution_count": 16,
     "metadata": {},
     "output_type": "execute_result"
    }
   ],
   "source": [
    "data.groupby('Brand')['Incidence'].value_counts()"
   ]
  },
  {
   "cell_type": "code",
   "execution_count": 58,
   "id": "b400da0e",
   "metadata": {},
   "outputs": [
    {
     "data": {
      "text/plain": [
       "<AxesSubplot:xlabel='Incidence'>"
      ]
     },
     "execution_count": 58,
     "metadata": {},
     "output_type": "execute_result"
    },
    {
     "data": {
      "image/png": "[encoded data removed]",
      "text/plain": [
       "<Figure size 288x288 with 1 Axes>"
      ]
     },
     "metadata": {
      "needs_background": "light"
     },
     "output_type": "display_data"
    }
   ],
   "source": [
    "plt.rcParams[\"figure.figsize\"] = [4,4]\n",
    "pd.crosstab(data.Incidence, data.Brand).plot(kind='bar')"
   ]
  },
  {
   "cell_type": "markdown",
   "id": "5740e310",
   "metadata": {},
   "source": [
    "## Out of total incidences Brand 5 has highest incidence followed by Brand 2"
   ]
  },
  {
   "cell_type": "code",
   "execution_count": 18,
   "id": "0b697cb0",
   "metadata": {},
   "outputs": [
    {
     "data": {
      "text/plain": [
       "Quantity  Incidence\n",
       "0         0            44055\n",
       "1         1             3542\n",
       "2         1             3800\n",
       "3         1             4241\n",
       "4         1             1165\n",
       "5         1              921\n",
       "6         1              355\n",
       "7         1              200\n",
       "8         1              133\n",
       "9         1              106\n",
       "10        1               81\n",
       "11        1               38\n",
       "12        1               29\n",
       "13        1               20\n",
       "14        1                5\n",
       "15        1                2\n",
       "Name: Incidence, dtype: int64"
      ]
     },
     "execution_count": 18,
     "metadata": {},
     "output_type": "execute_result"
    }
   ],
   "source": [
    "data.groupby('Quantity')['Incidence'].value_counts()"
   ]
  },
  {
   "cell_type": "code",
   "execution_count": 19,
   "id": "dbb5c4c4",
   "metadata": {},
   "outputs": [
    {
     "data": {
      "text/plain": [
       "<AxesSubplot:xlabel='Incidence'>"
      ]
     },
     "execution_count": 19,
     "metadata": {},
     "output_type": "execute_result"
    },
    {
     "data": {
      "image/png": "[encoded data removed]",
      "text/plain": [
       "<Figure size 1080x720 with 1 Axes>"
      ]
     },
     "metadata": {
      "needs_background": "light"
     },
     "output_type": "display_data"
    }
   ],
   "source": [
    "pd.crosstab(data.Incidence, data.Quantity).plot(kind='bar')"
   ]
  },
  {
   "cell_type": "markdown",
   "id": "68005b08",
   "metadata": {},
   "source": [
    "## We can suggest that customers buying from this company are satisfied as they purchase in more than 2 quantity every time they buy"
   ]
  },
  {
   "cell_type": "code",
   "execution_count": 20,
   "id": "fe97cf2b",
   "metadata": {
    "scrolled": true
   },
   "outputs": [
    {
     "data": {
      "text/plain": [
       "0    44133\n",
       "5     4972\n",
       "2     4491\n",
       "4     2914\n",
       "1     1349\n",
       "3      834\n",
       "Name: Last_Inc_Brand, dtype: int64"
      ]
     },
     "execution_count": 20,
     "metadata": {},
     "output_type": "execute_result"
    }
   ],
   "source": [
    "data['Last_Inc_Brand'].value_counts()"
   ]
  },
  {
   "cell_type": "code",
   "execution_count": 21,
   "id": "7fad2570",
   "metadata": {},
   "outputs": [],
   "source": [
    "## Here we can see that previously brand 5 was purchased maximum"
   ]
  },
  {
   "cell_type": "code",
   "execution_count": 22,
   "id": "77ce1afa",
   "metadata": {},
   "outputs": [
    {
     "data": {
      "text/plain": [
       "Last_Inc_Brand  Incidence\n",
       "0               0            35452\n",
       "                1             8681\n",
       "1               0              916\n",
       "                1              433\n",
       "2               0             3181\n",
       "                1             1310\n",
       "3               0              587\n",
       "                1              247\n",
       "4               0             1758\n",
       "                1             1156\n",
       "5               1             2811\n",
       "                0             2161\n",
       "Name: Incidence, dtype: int64"
      ]
     },
     "execution_count": 22,
     "metadata": {},
     "output_type": "execute_result"
    }
   ],
   "source": [
    "data.groupby('Last_Inc_Brand')['Incidence'].value_counts()"
   ]
  },
  {
   "cell_type": "code",
   "execution_count": 59,
   "id": "86a273b9",
   "metadata": {
    "scrolled": true
   },
   "outputs": [
    {
     "data": {
      "text/plain": [
       "<AxesSubplot:xlabel='Incidence'>"
      ]
     },
     "execution_count": 59,
     "metadata": {},
     "output_type": "execute_result"
    },
    {
     "data": {
      "image/png": "[encoded data removed]",
      "text/plain": [
       "<Figure size 288x288 with 1 Axes>"
      ]
     },
     "metadata": {
      "needs_background": "light"
     },
     "output_type": "display_data"
    }
   ],
   "source": [
    "plt.rcParams[\"figure.figsize\"] = [4,4]\n",
    "pd.crosstab(data.Incidence, data['Last_Inc_Brand']).plot(kind='bar')"
   ]
  },
  {
   "cell_type": "code",
   "execution_count": 24,
   "id": "3264da58",
   "metadata": {},
   "outputs": [],
   "source": [
    "## Here we can relate that our sales have decreased means people buying bars previosuly have reduces significantly and Brand 5 is still the highest selling margin"
   ]
  },
  {
   "cell_type": "code",
   "execution_count": null,
   "id": "ac0f9a9a",
   "metadata": {
    "scrolled": true
   },
   "outputs": [],
   "source": []
  },
  {
   "cell_type": "code",
   "execution_count": 25,
   "id": "060701d7",
   "metadata": {},
   "outputs": [],
   "source": [
    "new_df = data[['Price_1','Price_2','Price_3','Price_4','Price_5','Incidence']].copy()"
   ]
  },
  {
   "cell_type": "code",
   "execution_count": 26,
   "id": "683e206b",
   "metadata": {},
   "outputs": [
    {
     "data": {
      "text/html": [
       "<div>\n",
       "<style scoped>\n",
       "    .dataframe tbody tr th:only-of-type {\n",
       "        vertical-align: middle;\n",
       "    }\n",
       "\n",
       "    .dataframe tbody tr th {\n",
       "        vertical-align: top;\n",
       "    }\n",
       "\n",
       "    .dataframe thead th {\n",
       "        text-align: right;\n",
       "    }\n",
       "</style>\n",
       "<table border=\"1\" class=\"dataframe\">\n",
       "  <thead>\n",
       "    <tr style=\"text-align: right;\">\n",
       "      <th></th>\n",
       "      <th>Price_1</th>\n",
       "      <th>Price_2</th>\n",
       "      <th>Price_3</th>\n",
       "      <th>Price_4</th>\n",
       "      <th>Price_5</th>\n",
       "      <th>Incidence</th>\n",
       "    </tr>\n",
       "  </thead>\n",
       "  <tbody>\n",
       "    <tr>\n",
       "      <th>0</th>\n",
       "      <td>1.59</td>\n",
       "      <td>1.87</td>\n",
       "      <td>2.01</td>\n",
       "      <td>2.09</td>\n",
       "      <td>2.66</td>\n",
       "      <td>0</td>\n",
       "    </tr>\n",
       "    <tr>\n",
       "      <th>1</th>\n",
       "      <td>1.51</td>\n",
       "      <td>1.89</td>\n",
       "      <td>1.99</td>\n",
       "      <td>2.09</td>\n",
       "      <td>2.66</td>\n",
       "      <td>0</td>\n",
       "    </tr>\n",
       "    <tr>\n",
       "      <th>2</th>\n",
       "      <td>1.51</td>\n",
       "      <td>1.89</td>\n",
       "      <td>1.99</td>\n",
       "      <td>2.09</td>\n",
       "      <td>2.66</td>\n",
       "      <td>0</td>\n",
       "    </tr>\n",
       "    <tr>\n",
       "      <th>3</th>\n",
       "      <td>1.52</td>\n",
       "      <td>1.89</td>\n",
       "      <td>1.98</td>\n",
       "      <td>2.09</td>\n",
       "      <td>2.66</td>\n",
       "      <td>0</td>\n",
       "    </tr>\n",
       "    <tr>\n",
       "      <th>4</th>\n",
       "      <td>1.52</td>\n",
       "      <td>1.89</td>\n",
       "      <td>1.99</td>\n",
       "      <td>2.09</td>\n",
       "      <td>2.66</td>\n",
       "      <td>0</td>\n",
       "    </tr>\n",
       "    <tr>\n",
       "      <th>...</th>\n",
       "      <td>...</td>\n",
       "      <td>...</td>\n",
       "      <td>...</td>\n",
       "      <td>...</td>\n",
       "      <td>...</td>\n",
       "      <td>...</td>\n",
       "    </tr>\n",
       "    <tr>\n",
       "      <th>58688</th>\n",
       "      <td>1.41</td>\n",
       "      <td>1.85</td>\n",
       "      <td>2.01</td>\n",
       "      <td>2.24</td>\n",
       "      <td>2.79</td>\n",
       "      <td>0</td>\n",
       "    </tr>\n",
       "    <tr>\n",
       "      <th>58689</th>\n",
       "      <td>1.36</td>\n",
       "      <td>1.84</td>\n",
       "      <td>2.09</td>\n",
       "      <td>2.24</td>\n",
       "      <td>2.77</td>\n",
       "      <td>0</td>\n",
       "    </tr>\n",
       "    <tr>\n",
       "      <th>58690</th>\n",
       "      <td>1.50</td>\n",
       "      <td>1.80</td>\n",
       "      <td>2.14</td>\n",
       "      <td>2.24</td>\n",
       "      <td>2.75</td>\n",
       "      <td>0</td>\n",
       "    </tr>\n",
       "    <tr>\n",
       "      <th>58691</th>\n",
       "      <td>1.51</td>\n",
       "      <td>1.82</td>\n",
       "      <td>2.09</td>\n",
       "      <td>2.24</td>\n",
       "      <td>2.80</td>\n",
       "      <td>1</td>\n",
       "    </tr>\n",
       "    <tr>\n",
       "      <th>58692</th>\n",
       "      <td>1.51</td>\n",
       "      <td>1.82</td>\n",
       "      <td>2.09</td>\n",
       "      <td>2.24</td>\n",
       "      <td>2.80</td>\n",
       "      <td>0</td>\n",
       "    </tr>\n",
       "  </tbody>\n",
       "</table>\n",
       "<p>58693 rows × 6 columns</p>\n",
       "</div>"
      ],
      "text/plain": [
       "       Price_1  Price_2  Price_3  Price_4  Price_5 Incidence\n",
       "0         1.59     1.87     2.01     2.09     2.66         0\n",
       "1         1.51     1.89     1.99     2.09     2.66         0\n",
       "2         1.51     1.89     1.99     2.09     2.66         0\n",
       "3         1.52     1.89     1.98     2.09     2.66         0\n",
       "4         1.52     1.89     1.99     2.09     2.66         0\n",
       "...        ...      ...      ...      ...      ...       ...\n",
       "58688     1.41     1.85     2.01     2.24     2.79         0\n",
       "58689     1.36     1.84     2.09     2.24     2.77         0\n",
       "58690     1.50     1.80     2.14     2.24     2.75         0\n",
       "58691     1.51     1.82     2.09     2.24     2.80         1\n",
       "58692     1.51     1.82     2.09     2.24     2.80         0\n",
       "\n",
       "[58693 rows x 6 columns]"
      ]
     },
     "execution_count": 26,
     "metadata": {},
     "output_type": "execute_result"
    }
   ],
   "source": [
    "new_df"
   ]
  },
  {
   "cell_type": "code",
   "execution_count": 27,
   "id": "58fefe93",
   "metadata": {},
   "outputs": [
    {
     "name": "stdout",
     "output_type": "stream",
     "text": [
      "Price_1  Incidence\n",
      "1.10     0            108\n",
      "         1             50\n",
      "1.14     0            245\n",
      "         1             82\n",
      "1.17     0             86\n",
      "                     ... \n",
      "1.51     1            266\n",
      "1.52     0            602\n",
      "         1             76\n",
      "1.59     0            499\n",
      "         1             69\n",
      "Name: Incidence, Length: 74, dtype: int64\n",
      "Price_2  Incidence\n",
      "1.26     0              617\n",
      "         1              258\n",
      "1.27     0               81\n",
      "         1               39\n",
      "1.31     0              130\n",
      "         1               70\n",
      "1.35     0              681\n",
      "         1              408\n",
      "1.36     0              436\n",
      "         1              136\n",
      "1.46     0               50\n",
      "         1               19\n",
      "1.48     0              121\n",
      "         1               26\n",
      "1.49     0              357\n",
      "         1              156\n",
      "1.50     0              492\n",
      "         1              158\n",
      "1.51     0              973\n",
      "         1              438\n",
      "1.52     0              702\n",
      "         1              305\n",
      "1.53     0              359\n",
      "         1              169\n",
      "1.55     0              149\n",
      "         1               37\n",
      "1.56     0              847\n",
      "         1              372\n",
      "1.57     0             3477\n",
      "         1             1444\n",
      "1.58     0             1036\n",
      "         1              262\n",
      "1.69     0              340\n",
      "         1               83\n",
      "1.77     0              428\n",
      "         1              125\n",
      "1.78     0              390\n",
      "         1              112\n",
      "1.80     0              630\n",
      "         1              116\n",
      "1.81     0              667\n",
      "         1              215\n",
      "1.82     0              619\n",
      "         1              170\n",
      "1.83     0              796\n",
      "         1              257\n",
      "1.84     0              825\n",
      "         1              271\n",
      "1.85     0             1996\n",
      "         1              684\n",
      "1.86     0              836\n",
      "         1              277\n",
      "1.87     0             2359\n",
      "         1              638\n",
      "1.88     0             2453\n",
      "         1              908\n",
      "1.89     0            15287\n",
      "         1             4746\n",
      "1.90     0             5921\n",
      "         1             1739\n",
      "Name: Incidence, dtype: int64\n",
      "Price_3  Incidence\n",
      "1.87     0              99\n",
      "         1              34\n",
      "1.89     0             395\n",
      "         1             106\n",
      "1.91     0            1271\n",
      "         1             393\n",
      "1.93     0             771\n",
      "         1             236\n",
      "1.94     0            1372\n",
      "         1             547\n",
      "1.95     0            2843\n",
      "         1            1017\n",
      "1.96     0             826\n",
      "         1             341\n",
      "1.97     0            3441\n",
      "         1            1139\n",
      "1.98     0             555\n",
      "         1             136\n",
      "1.99     0            8535\n",
      "         1            2518\n",
      "2.00     0            1640\n",
      "         1             665\n",
      "2.01     0            3482\n",
      "         1            1030\n",
      "2.02     0            7093\n",
      "         1            2470\n",
      "2.04     0              54\n",
      "         1               6\n",
      "2.05     0             394\n",
      "         1             187\n",
      "2.06     0            6016\n",
      "         1            2132\n",
      "2.07     0            3654\n",
      "         1            1308\n",
      "2.09     0             941\n",
      "         1             265\n",
      "2.11     0             379\n",
      "         1              79\n",
      "2.13     0              48\n",
      "         1               4\n",
      "2.14     0             246\n",
      "         1              25\n",
      "Name: Incidence, dtype: int64\n",
      "Price_4  Incidence\n",
      "1.76     0              51\n",
      "         1              26\n",
      "1.89     0             373\n",
      "         1             190\n",
      "1.90     0             780\n",
      "         1             207\n",
      "1.94     0             352\n",
      "         1             226\n",
      "1.96     0             390\n",
      "         1             212\n",
      "1.97     0            1602\n",
      "         1             596\n",
      "1.98     0             490\n",
      "         1             164\n",
      "1.99     0              45\n",
      "         1              22\n",
      "2.02     0             328\n",
      "         1             155\n",
      "2.03     0             372\n",
      "         1             117\n",
      "2.04     0             136\n",
      "         1              41\n",
      "2.07     0              96\n",
      "         1              42\n",
      "2.09     0            4141\n",
      "         1             750\n",
      "2.11     0              88\n",
      "         1              18\n",
      "2.12     0            3415\n",
      "         1            1066\n",
      "2.13     0             466\n",
      "         1              92\n",
      "2.14     0             346\n",
      "         1             108\n",
      "2.15     0             572\n",
      "         1             164\n",
      "2.16     0            7924\n",
      "         1            2906\n",
      "2.17     0             247\n",
      "         1              94\n",
      "2.18     0            1454\n",
      "         1             415\n",
      "2.19     0             375\n",
      "         1             132\n",
      "2.20     0             317\n",
      "         1             164\n",
      "2.21     0            8092\n",
      "         1            2807\n",
      "2.24     0            8114\n",
      "         1            2758\n",
      "2.26     0            3489\n",
      "         1            1166\n",
      "Name: Incidence, dtype: int64\n",
      "Price_5  Incidence\n",
      "2.11     0              91\n",
      "         1              23\n",
      "2.19     0              63\n",
      "         1              17\n",
      "2.27     0             102\n",
      "                      ... \n",
      "2.78     1             221\n",
      "2.79     0            3221\n",
      "         1            1126\n",
      "2.80     0             894\n",
      "         1             263\n",
      "Name: Incidence, Length: 88, dtype: int64\n",
      "Incidence  Incidence\n",
      "0          0            44055\n",
      "1          1            14638\n",
      "Name: Incidence, dtype: int64\n"
     ]
    }
   ],
   "source": [
    "for i in new_df.columns:\n",
    "    print(data.groupby(new_df[i])['Incidence'].value_counts())\n",
    "    "
   ]
  },
  {
   "cell_type": "code",
   "execution_count": 86,
   "id": "aeb23fa9",
   "metadata": {},
   "outputs": [
    {
     "data": {
      "image/png": "[encoded data removed]",
      "text/plain": [
       "<Figure size 936x720 with 1 Axes>"
      ]
     },
     "metadata": {
      "needs_background": "light"
     },
     "output_type": "display_data"
    },
    {
     "data": {
      "image/png": "[encoded data removed]",
      "text/plain": [
       "<Figure size 1008x720 with 1 Axes>"
      ]
     },
     "metadata": {
      "needs_background": "light"
     },
     "output_type": "display_data"
    },
    {
     "data": {
      "image/png": "[encoded data removed]",
      "text/plain": [
       "<Figure size 1008x720 with 1 Axes>"
      ]
     },
     "metadata": {
      "needs_background": "light"
     },
     "output_type": "display_data"
    },
    {
     "data": {
      "image/png": "[encoded data removed]",
      "text/plain": [
       "<Figure size 1008x720 with 1 Axes>"
      ]
     },
     "metadata": {
      "needs_background": "light"
     },
     "output_type": "display_data"
    },
    {
     "data": {
      "image/png": "[encoded data removed]",
      "text/plain": [
       "<Figure size 1008x720 with 1 Axes>"
      ]
     },
     "metadata": {
      "needs_background": "light"
     },
     "output_type": "display_data"
    },
    {
     "data": {
      "image/png": "[encoded data removed]",
      "text/plain": [
       "<Figure size 1008x720 with 1 Axes>"
      ]
     },
     "metadata": {
      "needs_background": "light"
     },
     "output_type": "display_data"
    }
   ],
   "source": [
    "\n",
    "for i in new_df.columns:\n",
    "    pd.crosstab(new_df.Incidence, new_df[i]).plot(kind='bar')\n",
    "    plt.rcParams[\"figure.figsize\"] = [14,10]\n",
    "    plt.show()"
   ]
  },
  {
   "cell_type": "code",
   "execution_count": 29,
   "id": "27904e19",
   "metadata": {},
   "outputs": [],
   "source": [
    "## As we analyze that brand 5 has high effect on incidence. \n",
    "## Brand 1 purchased max price is 1.47 with quantity 1857\n",
    "## Brand 2 purchased max price is 1.89 with quantity 4746\n",
    "## Brand 3 purchased max price is 1.99 with quantity 2518\n",
    "## Brand 4 purchased max price is 2.16 with quantity 2906\n",
    "## Brand 5 purchased max price is 2.67 with quantity 2925\n",
    "\n",
    "## Here we can see that brand 5 has max price wrt others brands , and still brand 5 has high effect on incidence,\n",
    "#but Brand 2 with purchase price of 1.89 gives us highest sales figure\n"
   ]
  },
  {
   "cell_type": "code",
   "execution_count": 30,
   "id": "baa687ec",
   "metadata": {},
   "outputs": [
    {
     "data": {
      "text/html": [
       "<div>\n",
       "<style scoped>\n",
       "    .dataframe tbody tr th:only-of-type {\n",
       "        vertical-align: middle;\n",
       "    }\n",
       "\n",
       "    .dataframe tbody tr th {\n",
       "        vertical-align: top;\n",
       "    }\n",
       "\n",
       "    .dataframe thead th {\n",
       "        text-align: right;\n",
       "    }\n",
       "</style>\n",
       "<table border=\"1\" class=\"dataframe\">\n",
       "  <thead>\n",
       "    <tr style=\"text-align: right;\">\n",
       "      <th></th>\n",
       "      <th>Promotion_1</th>\n",
       "      <th>Promotion_2</th>\n",
       "      <th>Promotion_3</th>\n",
       "      <th>Promotion_4</th>\n",
       "      <th>Promotion_5</th>\n",
       "      <th>Incidence</th>\n",
       "    </tr>\n",
       "  </thead>\n",
       "  <tbody>\n",
       "    <tr>\n",
       "      <th>0</th>\n",
       "      <td>0</td>\n",
       "      <td>1</td>\n",
       "      <td>0</td>\n",
       "      <td>0</td>\n",
       "      <td>0</td>\n",
       "      <td>0</td>\n",
       "    </tr>\n",
       "    <tr>\n",
       "      <th>1</th>\n",
       "      <td>0</td>\n",
       "      <td>0</td>\n",
       "      <td>0</td>\n",
       "      <td>0</td>\n",
       "      <td>0</td>\n",
       "      <td>0</td>\n",
       "    </tr>\n",
       "    <tr>\n",
       "      <th>2</th>\n",
       "      <td>0</td>\n",
       "      <td>0</td>\n",
       "      <td>0</td>\n",
       "      <td>0</td>\n",
       "      <td>0</td>\n",
       "      <td>0</td>\n",
       "    </tr>\n",
       "    <tr>\n",
       "      <th>3</th>\n",
       "      <td>0</td>\n",
       "      <td>0</td>\n",
       "      <td>0</td>\n",
       "      <td>0</td>\n",
       "      <td>0</td>\n",
       "      <td>0</td>\n",
       "    </tr>\n",
       "    <tr>\n",
       "      <th>4</th>\n",
       "      <td>0</td>\n",
       "      <td>0</td>\n",
       "      <td>0</td>\n",
       "      <td>0</td>\n",
       "      <td>0</td>\n",
       "      <td>0</td>\n",
       "    </tr>\n",
       "    <tr>\n",
       "      <th>...</th>\n",
       "      <td>...</td>\n",
       "      <td>...</td>\n",
       "      <td>...</td>\n",
       "      <td>...</td>\n",
       "      <td>...</td>\n",
       "      <td>...</td>\n",
       "    </tr>\n",
       "    <tr>\n",
       "      <th>58688</th>\n",
       "      <td>0</td>\n",
       "      <td>0</td>\n",
       "      <td>1</td>\n",
       "      <td>0</td>\n",
       "      <td>0</td>\n",
       "      <td>0</td>\n",
       "    </tr>\n",
       "    <tr>\n",
       "      <th>58689</th>\n",
       "      <td>0</td>\n",
       "      <td>0</td>\n",
       "      <td>0</td>\n",
       "      <td>0</td>\n",
       "      <td>0</td>\n",
       "      <td>0</td>\n",
       "    </tr>\n",
       "    <tr>\n",
       "      <th>58690</th>\n",
       "      <td>0</td>\n",
       "      <td>0</td>\n",
       "      <td>0</td>\n",
       "      <td>0</td>\n",
       "      <td>0</td>\n",
       "      <td>0</td>\n",
       "    </tr>\n",
       "    <tr>\n",
       "      <th>58691</th>\n",
       "      <td>0</td>\n",
       "      <td>0</td>\n",
       "      <td>0</td>\n",
       "      <td>0</td>\n",
       "      <td>0</td>\n",
       "      <td>1</td>\n",
       "    </tr>\n",
       "    <tr>\n",
       "      <th>58692</th>\n",
       "      <td>0</td>\n",
       "      <td>0</td>\n",
       "      <td>0</td>\n",
       "      <td>0</td>\n",
       "      <td>0</td>\n",
       "      <td>0</td>\n",
       "    </tr>\n",
       "  </tbody>\n",
       "</table>\n",
       "<p>58693 rows × 6 columns</p>\n",
       "</div>"
      ],
      "text/plain": [
       "      Promotion_1 Promotion_2 Promotion_3 Promotion_4 Promotion_5 Incidence\n",
       "0               0           1           0           0           0         0\n",
       "1               0           0           0           0           0         0\n",
       "2               0           0           0           0           0         0\n",
       "3               0           0           0           0           0         0\n",
       "4               0           0           0           0           0         0\n",
       "...           ...         ...         ...         ...         ...       ...\n",
       "58688           0           0           1           0           0         0\n",
       "58689           0           0           0           0           0         0\n",
       "58690           0           0           0           0           0         0\n",
       "58691           0           0           0           0           0         1\n",
       "58692           0           0           0           0           0         0\n",
       "\n",
       "[58693 rows x 6 columns]"
      ]
     },
     "execution_count": 30,
     "metadata": {},
     "output_type": "execute_result"
    }
   ],
   "source": [
    "new_prm = data[['Promotion_1','Promotion_2','Promotion_3','Promotion_4','Promotion_5','Incidence']].copy()\n",
    "new_prm"
   ]
  },
  {
   "cell_type": "code",
   "execution_count": 31,
   "id": "26b4a2fc",
   "metadata": {
    "scrolled": true
   },
   "outputs": [
    {
     "name": "stdout",
     "output_type": "stream",
     "text": [
      "Promotion_1  Incidence\n",
      "0            0            29326\n",
      "             1             9186\n",
      "1            0            14729\n",
      "             1             5452\n",
      "Name: Incidence, dtype: int64\n",
      "Promotion_2  Incidence\n",
      "0            0            30649\n",
      "             1             9520\n",
      "1            0            13406\n",
      "             1             5118\n",
      "Name: Incidence, dtype: int64\n",
      "Promotion_3  Incidence\n",
      "0            0            42185\n",
      "             1            13996\n",
      "1            0             1870\n",
      "             1              642\n",
      "Name: Incidence, dtype: int64\n",
      "Promotion_4  Incidence\n",
      "0            0            39013\n",
      "             1            12763\n",
      "1            0             5042\n",
      "             1             1875\n",
      "Name: Incidence, dtype: int64\n",
      "Promotion_5  Incidence\n",
      "0            0            42615\n",
      "             1            13973\n",
      "1            0             1440\n",
      "             1              665\n",
      "Name: Incidence, dtype: int64\n",
      "Incidence  Incidence\n",
      "0          0            44055\n",
      "1          1            14638\n",
      "Name: Incidence, dtype: int64\n"
     ]
    }
   ],
   "source": [
    "for i in new_prm.columns:\n",
    "    print(new_prm.groupby(new_prm[i])['Incidence'].value_counts())\n",
    "    "
   ]
  },
  {
   "cell_type": "code",
   "execution_count": 88,
   "id": "a70563d3",
   "metadata": {},
   "outputs": [
    {
     "data": {
      "image/png": "[encoded data removed]",
      "text/plain": [
       "<Figure size 288x288 with 1 Axes>"
      ]
     },
     "metadata": {
      "needs_background": "light"
     },
     "output_type": "display_data"
    },
    {
     "data": {
      "image/png": "[encoded data removed]",
      "text/plain": [
       "<Figure size 288x288 with 1 Axes>"
      ]
     },
     "metadata": {
      "needs_background": "light"
     },
     "output_type": "display_data"
    },
    {
     "data": {
      "image/png": "[encoded data removed]",
      "text/plain": [
       "<Figure size 288x288 with 1 Axes>"
      ]
     },
     "metadata": {
      "needs_background": "light"
     },
     "output_type": "display_data"
    },
    {
     "data": {
      "image/png": "[encoded data removed]",
      "text/plain": [
       "<Figure size 288x288 with 1 Axes>"
      ]
     },
     "metadata": {
      "needs_background": "light"
     },
     "output_type": "display_data"
    },
    {
     "data": {
      "image/png": "[encoded data removed]",
      "text/plain": [
       "<Figure size 288x288 with 1 Axes>"
      ]
     },
     "metadata": {
      "needs_background": "light"
     },
     "output_type": "display_data"
    },
    {
     "data": {
      "image/png": "[encoded data removed]",
      "text/plain": [
       "<Figure size 288x288 with 1 Axes>"
      ]
     },
     "metadata": {
      "needs_background": "light"
     },
     "output_type": "display_data"
    }
   ],
   "source": [
    "for i in new_prm.columns:\n",
    "    pd.crosstab(new_prm.Incidence, new_prm[i]).plot(kind='bar')\n",
    "    plt.rcParams[\"figure.figsize\"] = [4,4]\n",
    "    plt.show()"
   ]
  },
  {
   "cell_type": "code",
   "execution_count": 33,
   "id": "6aa7c90f",
   "metadata": {},
   "outputs": [],
   "source": [
    "## We can see effects of promotion on brand 1. \n",
    "## Above we saw that brand 2 and 1 have great effect on incidences after brand 5, so here we can see the positive effect of promotion on brand2 and brand 1\n",
    "## There is no much effect of promotion on brand5. Acc to me brand5 has make his own stability in the market because now brand5 does not have promotion.\n"
   ]
  },
  {
   "cell_type": "code",
   "execution_count": 34,
   "id": "d40ba654",
   "metadata": {},
   "outputs": [
    {
     "data": {
      "text/plain": [
       "Sex  Incidence\n",
       "0    0            26636\n",
       "     1             9408\n",
       "1    0            17419\n",
       "     1             5230\n",
       "Name: Incidence, dtype: int64"
      ]
     },
     "execution_count": 34,
     "metadata": {},
     "output_type": "execute_result"
    }
   ],
   "source": [
    "data.groupby('Sex')['Incidence'].value_counts()"
   ]
  },
  {
   "cell_type": "code",
   "execution_count": 89,
   "id": "5df0937c",
   "metadata": {
    "scrolled": true
   },
   "outputs": [
    {
     "data": {
      "text/plain": [
       "<AxesSubplot:xlabel='Sex'>"
      ]
     },
     "execution_count": 89,
     "metadata": {},
     "output_type": "execute_result"
    },
    {
     "data": {
      "image/png": "[encoded data removed]",
      "text/plain": [
       "<Figure size 288x288 with 1 Axes>"
      ]
     },
     "metadata": {
      "needs_background": "light"
     },
     "output_type": "display_data"
    }
   ],
   "source": [
    "pd.crosstab(data.Sex, data.Incidence).plot(kind='bar')"
   ]
  },
  {
   "cell_type": "code",
   "execution_count": 36,
   "id": "0f3f0da4",
   "metadata": {},
   "outputs": [],
   "source": [
    "## Chocolates purchased in the above scenario shows much higher in males than females"
   ]
  },
  {
   "cell_type": "code",
   "execution_count": 37,
   "id": "07d52f55",
   "metadata": {},
   "outputs": [
    {
     "data": {
      "text/plain": [
       "Marital status  Incidence\n",
       "0               0            26620\n",
       "                1             9000\n",
       "1               0            17435\n",
       "                1             5638\n",
       "Name: Incidence, dtype: int64"
      ]
     },
     "execution_count": 37,
     "metadata": {},
     "output_type": "execute_result"
    }
   ],
   "source": [
    "data.groupby('Marital status')['Incidence'].value_counts()"
   ]
  },
  {
   "cell_type": "code",
   "execution_count": 90,
   "id": "b626142e",
   "metadata": {},
   "outputs": [
    {
     "data": {
      "text/plain": [
       "<AxesSubplot:xlabel='Marital status'>"
      ]
     },
     "execution_count": 90,
     "metadata": {},
     "output_type": "execute_result"
    },
    {
     "data": {
      "image/png": "[encoded data removed]",
      "text/plain": [
       "<Figure size 288x288 with 1 Axes>"
      ]
     },
     "metadata": {
      "needs_background": "light"
     },
     "output_type": "display_data"
    }
   ],
   "source": [
    "pd.crosstab(data['Marital status'], data.Incidence).plot(kind='bar')"
   ]
  },
  {
   "cell_type": "code",
   "execution_count": 39,
   "id": "4f33c059",
   "metadata": {},
   "outputs": [],
   "source": [
    "## Singles purchased more chocolates compare with non single"
   ]
  },
  {
   "cell_type": "code",
   "execution_count": 40,
   "id": "c8e902f4",
   "metadata": {},
   "outputs": [
    {
     "data": {
      "text/plain": [
       "Age  Incidence\n",
       "18   0            181\n",
       "     1             54\n",
       "19   0             70\n",
       "     1             36\n",
       "20   0            135\n",
       "                 ... \n",
       "73   1             11\n",
       "74   0             79\n",
       "     1             15\n",
       "75   0             46\n",
       "     1             26\n",
       "Name: Incidence, Length: 112, dtype: int64"
      ]
     },
     "execution_count": 40,
     "metadata": {},
     "output_type": "execute_result"
    }
   ],
   "source": [
    "data.groupby('Age')['Incidence'].value_counts()"
   ]
  },
  {
   "cell_type": "code",
   "execution_count": 92,
   "id": "c41eb3fa",
   "metadata": {},
   "outputs": [
    {
     "data": {
      "text/plain": [
       "<AxesSubplot:xlabel='Age'>"
      ]
     },
     "execution_count": 92,
     "metadata": {},
     "output_type": "execute_result"
    },
    {
     "data": {
      "image/png": "[encoded data removed]",
      "text/plain": [
       "<Figure size 864x864 with 1 Axes>"
      ]
     },
     "metadata": {
      "needs_background": "light"
     },
     "output_type": "display_data"
    }
   ],
   "source": [
    "plt.rcParams[\"figure.figsize\"] = [12,12]\n",
    "pd.crosstab(data['Age'], data.Incidence).plot(kind='bar')\n"
   ]
  },
  {
   "cell_type": "code",
   "execution_count": 42,
   "id": "ead0df1c",
   "metadata": {},
   "outputs": [],
   "source": [
    "## Purchased count of chocloates are 730 at the age of 36 or we can say that chocolates byuing average age range is (30-40) \n",
    "## Also we can say that we can target adults age group from 23-40\n"
   ]
  },
  {
   "cell_type": "code",
   "execution_count": 43,
   "id": "3f7cb20f",
   "metadata": {},
   "outputs": [
    {
     "data": {
      "text/plain": [
       "Education  Incidence\n",
       "0          0             6698\n",
       "           1             1764\n",
       "1          0            28017\n",
       "           1             9144\n",
       "2          0             8231\n",
       "           1             3485\n",
       "3          0             1109\n",
       "           1              245\n",
       "Name: Incidence, dtype: int64"
      ]
     },
     "execution_count": 43,
     "metadata": {},
     "output_type": "execute_result"
    }
   ],
   "source": [
    "data.groupby('Education')['Incidence'].value_counts()"
   ]
  },
  {
   "cell_type": "code",
   "execution_count": 94,
   "id": "a0b71bba",
   "metadata": {},
   "outputs": [
    {
     "data": {
      "text/plain": [
       "<AxesSubplot:xlabel='Education'>"
      ]
     },
     "execution_count": 94,
     "metadata": {},
     "output_type": "execute_result"
    },
    {
     "data": {
      "image/png": "[encoded data removed]",
      "text/plain": [
       "<Figure size 288x288 with 1 Axes>"
      ]
     },
     "metadata": {
      "needs_background": "light"
     },
     "output_type": "display_data"
    }
   ],
   "source": [
    "plt.rcParams[\"figure.figsize\"] = [4,4]\n",
    "pd.crosstab(data['Education'], data.Incidence).plot(kind='bar')"
   ]
  },
  {
   "cell_type": "code",
   "execution_count": 45,
   "id": "a60eba5e",
   "metadata": {},
   "outputs": [],
   "source": [
    "## High schools are more effective for incidences. Count of purchased chocolates by high school are 9144"
   ]
  },
  {
   "cell_type": "code",
   "execution_count": 46,
   "id": "98989831",
   "metadata": {},
   "outputs": [
    {
     "data": {
      "text/plain": [
       "Income  Incidence\n",
       "38247   0             97\n",
       "        1             17\n",
       "43684   0            122\n",
       "        1              7\n",
       "43805   0             77\n",
       "                    ... \n",
       "308491  1             21\n",
       "308529  0             75\n",
       "        1             34\n",
       "309364  0             80\n",
       "        1             25\n",
       "Name: Incidence, Length: 998, dtype: int64"
      ]
     },
     "execution_count": 46,
     "metadata": {},
     "output_type": "execute_result"
    }
   ],
   "source": [
    "data.groupby('Income')['Incidence'].value_counts()"
   ]
  },
  {
   "cell_type": "code",
   "execution_count": 96,
   "id": "2ec147d1",
   "metadata": {},
   "outputs": [
    {
     "data": {
      "text/plain": [
       "<AxesSubplot:xlabel='Income'>"
      ]
     },
     "execution_count": 96,
     "metadata": {},
     "output_type": "execute_result"
    },
    {
     "data": {
      "image/png": "[encoded data removed]",
      "text/plain": [
       "<Figure size 576x576 with 1 Axes>"
      ]
     },
     "metadata": {
      "needs_background": "light"
     },
     "output_type": "display_data"
    }
   ],
   "source": [
    "plt.rcParams[\"figure.figsize\"] = [8,8]\n",
    "pd.crosstab(data['Income'], data.Incidence).plot(kind='line')"
   ]
  },
  {
   "cell_type": "code",
   "execution_count": 48,
   "id": "37a54aaf",
   "metadata": {},
   "outputs": [],
   "source": [
    "## Income between 100000 and 150000 are buying more chocolates or we  can say have high effect on incidences"
   ]
  },
  {
   "cell_type": "code",
   "execution_count": 49,
   "id": "3af323ea",
   "metadata": {},
   "outputs": [
    {
     "data": {
      "text/plain": [
       "Occupation  Incidence\n",
       "0           0            16786\n",
       "            1             4246\n",
       "1           0            21474\n",
       "            1             8408\n",
       "2           0             5795\n",
       "            1             1984\n",
       "Name: Incidence, dtype: int64"
      ]
     },
     "execution_count": 49,
     "metadata": {},
     "output_type": "execute_result"
    }
   ],
   "source": [
    "data.groupby('Occupation')['Incidence'].value_counts()"
   ]
  },
  {
   "cell_type": "code",
   "execution_count": 99,
   "id": "3d4fffe3",
   "metadata": {
    "scrolled": true
   },
   "outputs": [
    {
     "data": {
      "text/plain": [
       "<AxesSubplot:xlabel='Occupation'>"
      ]
     },
     "execution_count": 99,
     "metadata": {},
     "output_type": "execute_result"
    },
    {
     "data": {
      "image/png": "[encoded data removed]",
      "text/plain": [
       "<Figure size 288x288 with 1 Axes>"
      ]
     },
     "metadata": {
      "needs_background": "light"
     },
     "output_type": "display_data"
    }
   ],
   "source": [
    "plt.rcParams[\"figure.figsize\"] = [4,4]\n",
    "pd.crosstab(data['Occupation'], data.Incidence).plot(kind='bar')"
   ]
  },
  {
   "cell_type": "code",
   "execution_count": 51,
   "id": "ecaff1b5",
   "metadata": {},
   "outputs": [],
   "source": [
    "## Skilled professionals gives us highest instances with salary range startin from USD 1 Lac"
   ]
  },
  {
   "cell_type": "code",
   "execution_count": 52,
   "id": "c72b6134",
   "metadata": {},
   "outputs": [],
   "source": [
    "## We have also seen that upper class people or business/management related people are very less interested to buy chocolate bars and we should decrease promotion for such class of people"
   ]
  },
  {
   "cell_type": "code",
   "execution_count": 53,
   "id": "b353b4f1",
   "metadata": {},
   "outputs": [
    {
     "data": {
      "text/plain": [
       "Settlement size  Incidence\n",
       "0                0            25493\n",
       "                 1             6588\n",
       "1                0            10301\n",
       "                 1             4426\n",
       "2                0             8261\n",
       "                 1             3624\n",
       "Name: Incidence, dtype: int64"
      ]
     },
     "execution_count": 53,
     "metadata": {},
     "output_type": "execute_result"
    }
   ],
   "source": [
    "data.groupby('Settlement size')['Incidence'].value_counts()"
   ]
  },
  {
   "cell_type": "code",
   "execution_count": 100,
   "id": "e8d39fe1",
   "metadata": {},
   "outputs": [
    {
     "data": {
      "text/plain": [
       "<AxesSubplot:xlabel='Settlement size'>"
      ]
     },
     "execution_count": 100,
     "metadata": {},
     "output_type": "execute_result"
    },
    {
     "data": {
      "image/png": "[encoded data removed]",
      "text/plain": [
       "<Figure size 288x288 with 1 Axes>"
      ]
     },
     "metadata": {
      "needs_background": "light"
     },
     "output_type": "display_data"
    }
   ],
   "source": [
    "pd.crosstab(data['Settlement size'], data.Incidence).plot(kind='bar')"
   ]
  },
  {
   "cell_type": "code",
   "execution_count": 55,
   "id": "d6ecac81",
   "metadata": {},
   "outputs": [],
   "source": [
    "## Chocolates are most bought in small cities so we can increase our promotion in small cities."
   ]
  },
  {
   "cell_type": "code",
   "execution_count": null,
   "id": "951fb611",
   "metadata": {},
   "outputs": [],
   "source": []
  },
  {
   "cell_type": "code",
   "execution_count": null,
   "id": "b75ab43e",
   "metadata": {},
   "outputs": [],
   "source": []
  },
  {
   "cell_type": "code",
   "execution_count": null,
   "id": "d91235b5",
   "metadata": {},
   "outputs": [],
   "source": []
  },
  {
   "cell_type": "code",
   "execution_count": null,
   "id": "aa64cdc7",
   "metadata": {},
   "outputs": [],
   "source": []
  },
  {
   "cell_type": "code",
   "execution_count": null,
   "id": "0643fa3e",
   "metadata": {},
   "outputs": [],
   "source": []
  },
  {
   "cell_type": "code",
   "execution_count": null,
   "id": "f8691c80",
   "metadata": {},
   "outputs": [],
   "source": []
  },
  {
   "cell_type": "code",
   "execution_count": null,
   "id": "835cbf82",
   "metadata": {},
   "outputs": [],
   "source": []
  },
  {
   "cell_type": "code",
   "execution_count": null,
   "id": "ce3213de",
   "metadata": {},
   "outputs": [],
   "source": []
  },
  {
   "cell_type": "code",
   "execution_count": null,
   "id": "89de82b3",
   "metadata": {},
   "outputs": [],
   "source": []
  },
  {
   "cell_type": "code",
   "execution_count": null,
   "id": "4ba5857f",
   "metadata": {},
   "outputs": [],
   "source": []
  },
  {
   "cell_type": "code",
   "execution_count": null,
   "id": "5fc3fa26",
   "metadata": {},
   "outputs": [],
   "source": []
  },
  {
   "cell_type": "code",
   "execution_count": null,
   "id": "d2a782fb",
   "metadata": {},
   "outputs": [],
   "source": []
  }
 ],
 "metadata": {
  "kernelspec": {
   "display_name": "Python 3 (ipykernel)",
   "language": "python",
   "name": "python3"
  },
  "language_info": {
   "codemirror_mode": {
    "name": "ipython",
    "version": 3
   },
   "file_extension": ".py",
   "mimetype": "text/x-python",
   "name": "python",
   "nbconvert_exporter": "python",
   "pygments_lexer": "ipython3",
   "version": "3.9.12"
  }
 },
 "nbformat": 4,
 "nbformat_minor": 5
}
